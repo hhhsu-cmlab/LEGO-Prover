{
 "cells": [
  {
   "cell_type": "code",
   "execution_count": 1,
   "metadata": {},
   "outputs": [],
   "source": [
    "import json\n",
    "problem_path = \"data/full_data/test/mathd_algebra_484.json\"\n",
    "with open(problem_path, \"r\") as f:\n",
    "    context = json.load(f)"
   ]
  },
  {
   "cell_type": "code",
   "execution_count": 3,
   "metadata": {},
   "outputs": [
    {
     "ename": "KeyError",
     "evalue": "'marker'",
     "output_type": "error",
     "traceback": [
      "\u001b[31m---------------------------------------------------------------------------\u001b[39m",
      "\u001b[31mKeyError\u001b[39m                                  Traceback (most recent call last)",
      "\u001b[36mCell\u001b[39m\u001b[36m \u001b[39m\u001b[32mIn[3]\u001b[39m\u001b[32m, line 1\u001b[39m\n\u001b[32m----> \u001b[39m\u001b[32m1\u001b[39m \u001b[43mcontext\u001b[49m\u001b[43m[\u001b[49m\u001b[33;43m'\u001b[39;49m\u001b[33;43mmarker\u001b[39;49m\u001b[33;43m'\u001b[39;49m\u001b[43m]\u001b[49m\n",
      "\u001b[31mKeyError\u001b[39m: 'marker'"
     ]
    }
   ],
   "source": [
    "context['marker']"
   ]
  },
  {
   "cell_type": "markdown",
   "metadata": {},
   "source": [
    "## 20250327"
   ]
  },
  {
   "cell_type": "code",
   "execution_count": 24,
   "metadata": {},
   "outputs": [],
   "source": [
    "import json\n",
    "import os\n",
    "from typing import List"
   ]
  },
  {
   "cell_type": "markdown",
   "metadata": {},
   "source": [
    "### amc12a_2002_p6\n",
    "This question is tried in the later part of the first 20-ish test problems"
   ]
  },
  {
   "cell_type": "code",
   "execution_count": 3,
   "metadata": {},
   "outputs": [
    {
     "name": "stdout",
     "output_type": "stream",
     "text": [
      "decomposer_conversation\n",
      "  sys0\n",
      "  human0\n",
      "  ai0\n",
      "  ai1\n",
      "  ai2\n",
      "task\n",
      "success\n",
      "conversations\n",
      "code\n",
      "context\n",
      "  problem_name\n",
      "  category\n",
      "  metadata\n",
      "  informal_statement\n",
      "  informal_proof\n",
      "  formal_statement\n",
      "  formal_code\n",
      "verified_result\n",
      "  success\n",
      "  reason\n",
      "  num_steps\n",
      "  last_step\n",
      "  error_step_index\n",
      "  step_results\n",
      "  corrected_steps\n",
      "action_agent_conversation\n",
      "  action_agent_sys0\n",
      "  action_agent_human0\n",
      "  action_agent_ai0\n"
     ]
    }
   ],
   "source": [
    "json_path = \"/home/hanyuan/Desktop/reason/LEGO-Prover/checkpoints/lego_prover_test/20250327_debug/json_logs/task_amc12a_2002_p6_try1.json\"\n",
    "with open(json_path, \"r\") as f:\n",
    "    json_data = json.load(f)\n",
    "\n",
    "# print the keys of json_data as a tree\n",
    "def print_keys(data, indent=0):\n",
    "    for key in data:\n",
    "        print(\"  \" * indent + key)\n",
    "        if isinstance(data[key], dict):\n",
    "            print_keys(data[key], indent + 1)\n",
    "\n",
    "print_keys(json_data)\n"
   ]
  },
  {
   "cell_type": "code",
   "execution_count": 4,
   "metadata": {},
   "outputs": [
    {
     "data": {
      "text/plain": [
       "'data/full_data/test/amc12a_2002_p6.json'"
      ]
     },
     "execution_count": 4,
     "metadata": {},
     "output_type": "execute_result"
    }
   ],
   "source": [
    "json_data['task']"
   ]
  },
  {
   "cell_type": "code",
   "execution_count": 5,
   "metadata": {},
   "outputs": [
    {
     "data": {
      "text/plain": [
       "False"
      ]
     },
     "execution_count": 5,
     "metadata": {},
     "output_type": "execute_result"
    }
   ],
   "source": [
    "json_data['success']"
   ]
  },
  {
   "cell_type": "code",
   "execution_count": 7,
   "metadata": {},
   "outputs": [
    {
     "data": {
      "text/plain": [
       "14"
      ]
     },
     "execution_count": 7,
     "metadata": {},
     "output_type": "execute_result"
    }
   ],
   "source": [
    "json_data['verified_result']['num_steps']"
   ]
  },
  {
   "cell_type": "code",
   "execution_count": 8,
   "metadata": {},
   "outputs": [
    {
     "data": {
      "text/plain": [
       "6"
      ]
     },
     "execution_count": 8,
     "metadata": {},
     "output_type": "execute_result"
    }
   ],
   "source": [
    "json_data['verified_result']['last_step']"
   ]
  },
  {
   "cell_type": "code",
   "execution_count": 9,
   "metadata": {},
   "outputs": [
    {
     "data": {
      "text/plain": [
       "5"
      ]
     },
     "execution_count": 9,
     "metadata": {},
     "output_type": "execute_result"
    }
   ],
   "source": [
    "json_data['verified_result']['error_step_index']"
   ]
  },
  {
   "cell_type": "code",
   "execution_count": 10,
   "metadata": {},
   "outputs": [
    {
     "name": "stdout",
     "output_type": "stream",
     "text": [
      "problem_name\n",
      "category\n",
      "metadata\n",
      "informal_statement\n",
      "informal_proof\n",
      "formal_statement\n",
      "formal_code\n"
     ]
    }
   ],
   "source": [
    "ctx = json_data['context']\n",
    "print_keys(ctx)"
   ]
  },
  {
   "cell_type": "code",
   "execution_count": 12,
   "metadata": {},
   "outputs": [
    {
     "data": {
      "text/plain": [
       "'unknown'"
      ]
     },
     "execution_count": 12,
     "metadata": {},
     "output_type": "execute_result"
    }
   ],
   "source": [
    "ctx['category']"
   ]
  },
  {
   "cell_type": "code",
   "execution_count": 15,
   "metadata": {},
   "outputs": [
    {
     "name": "stdout",
     "output_type": "stream",
     "text": [
      "For how many positive integers $m$ does there exist at least one positive integer n such that $m \\cdot n \\le m + n$?  $ \\textbf{(A) } 4\\qquad \\textbf{(B) } 6\\qquad \\textbf{(C) } 9\\qquad \\textbf{(D) } 12\\qquad \\textbf{(E) } \\text{infinitely many} $ Show that it is \\textbf{(E) } \\text{infinitely many}.\n"
     ]
    }
   ],
   "source": [
    "print(ctx['informal_statement'])"
   ]
  },
  {
   "cell_type": "code",
   "execution_count": 16,
   "metadata": {},
   "outputs": [
    {
     "name": "stdout",
     "output_type": "stream",
     "text": [
      "For any $m$ we can pick $n=1$, we get $m \\cdot 1 \\le m + 1$, therefore the answer is $\\textbf{(E) } \\text{infinitely many}$.\n"
     ]
    }
   ],
   "source": [
    "print(ctx['informal_proof'])"
   ]
  },
  {
   "cell_type": "code",
   "execution_count": 17,
   "metadata": {},
   "outputs": [
    {
     "name": "stdout",
     "output_type": "stream",
     "text": [
      "theorem amc12a_2002_p6:\n",
      "  fixes n ::nat \n",
      "  assumes \"n>0\"\n",
      "  shows \"\\<exists> m > n. \\<exists> p. m * p \\<le> m + p\"\n"
     ]
    }
   ],
   "source": [
    "print(ctx['formal_statement'])"
   ]
  },
  {
   "cell_type": "code",
   "execution_count": 18,
   "metadata": {},
   "outputs": [
    {
     "name": "stdout",
     "output_type": "stream",
     "text": [
      "(*\n",
      "  Authors: Wenda Li\n",
      "*)\n",
      "\n",
      "theory amc12a_2002_p6\n",
      "  imports Complex_Main \n",
      "begin\n",
      "\n",
      "theorem amc12a_2002_p6:\n",
      "  fixes m ::nat \n",
      "  assumes \"m>0\"\n",
      "  shows \"\\<exists> n. (n>0) \\<and>  m * n \\<le> m + n\"\n",
      "  sorry\n",
      "\n",
      "end\n",
      "\n"
     ]
    }
   ],
   "source": [
    "print(ctx['formal_code'])"
   ]
  },
  {
   "cell_type": "code",
   "execution_count": 19,
   "metadata": {},
   "outputs": [
    {
     "data": {
      "text/plain": [
       "{}"
      ]
     },
     "execution_count": 19,
     "metadata": {},
     "output_type": "execute_result"
    }
   ],
   "source": [
    "json_data['verified_result']['corrected_steps']"
   ]
  },
  {
   "cell_type": "code",
   "execution_count": 21,
   "metadata": {},
   "outputs": [
    {
     "name": "stdout",
     "output_type": "stream",
     "text": [
      "As a mathematician familiar with Isabelle, your task is to provide a formal proof in response to a given problem statement.\n",
      "Your proof should be structured and clearly written, meeting the following criteria:\n",
      "- It can be verified by Isabelle.\n",
      "- Each step of the proof should be explained in detail using comments enclosed in \"(*\" and \"*)\".\n",
      "- The explanation for each step should be clear and concise, avoiding any unnecessary or apologetic language.\n",
      "- You are **strongly encouraged** to create useful and reusable lemmas to solve the problem.\n",
      "- The lemmas should be as general as possible (generalizable), and be able to cover a large step in proofs (non-trivial).\n",
      "Please ensure that your proof is well-organized and easy to follow, with each step building upon the previous one.\n"
     ]
    }
   ],
   "source": [
    "print(json_data['action_agent_conversation']['action_agent_sys0'])"
   ]
  },
  {
   "cell_type": "code",
   "execution_count": 22,
   "metadata": {},
   "outputs": [
    {
     "name": "stdout",
     "output_type": "stream",
     "text": [
      "Here some useful skill for reference:\n",
      "###### useful skill 1: ######\n",
      "```isabelle\n",
      "lemma mod_divisor_remainder:\n",
      "  fixes a b :: nat\n",
      "  assumes \"a = b * 6\"\n",
      "  shows \"a mod 6 = 0\"\n",
      "proof -\n",
      "  have \"a mod 6 = (b * 6) mod 6\"\n",
      "    by (simp add: assms)\n",
      "  also have \"... = 0\"\n",
      "    by simp\n",
      "  finally show ?thesis by simp\n",
      "qed\n",
      "```\n",
      "\n",
      "\n",
      "###### useful skill 2: ######\n",
      "```isabelle\n",
      "lemma mod_divisor_remainder:\n",
      "  fixes a b :: nat\n",
      "  assumes \"a = b * 6\"\n",
      "  shows \"a mod 6 = 0\"\n",
      "proof -\n",
      "  have \"a mod 6 = (b * 6) mod 6\"\n",
      "    using assms by simp\n",
      "  then have \"a mod 6 = 0\"\n",
      "    by simp\n",
      "  thus ?thesis .\n",
      "qed\n",
      "```\n",
      "\n",
      "\n",
      "###### useful skill 3: ######\n",
      "```isabelle\n",
      "theorem amc12b_2002_p2:\n",
      "  fixes x ::int\n",
      "  assumes h0: \"x = 4\" \n",
      "  shows \"(3 * x - 2) * (4 * x + 1) - (3 * x - 2) * (4 * x) + 1 = 11\"\n",
      "proof -\n",
      "  have \"(3 * x - 2) * (4 * x + 1) - (3 * x - 2) * (4 * x) + 1 = (3 * 4 - 2) * (4 * 4 + 1) - (3 * 4 - 2) * (4 * 4) + 1\"\n",
      "    using h0 by simp\n",
      "  also have \"... = 10 * 17 - 10 * 16 + 1\" by simp\n",
      "  also have \"... = 170 - 160 + 1\" by simp\n",
      "  also have \"... = 11\" by simp\n",
      "  finally show ?thesis by simp\n",
      "qed\n",
      "```\n",
      "\n",
      "\n",
      "###### useful skill 4: ######\n",
      "```isabelle\n",
      "theorem mathd_numbertheory_517 :\n",
      "  \"(121 * 122 * 123) mod 4 = (2::nat)\"\n",
      "  by simp\n",
      "```\n",
      "\n",
      "\n",
      "## Problems\n",
      "If $x \\equiv 4 \\pmod{19}$ and $y \\equiv 7 \\pmod{19}$, then find the remainder when $(x + 1)^2 (y + 5)^3$ is divided by 19. Show that it is 13.\n",
      "\n",
      "## Informal proof\n",
      "Step 1: Compute \\((x + 1)^2 \\mod 19\\) using the lemma 'mod_add_power'. It turns out to be \\(5^2 \\mod 19\\).Step 3: Simplify the terms to 25 and 1728, respectively.\n",
      "Step 2: Compute \\((y + 5)^3 \\mod 19\\) using the lemma 'mod_add_power'. It turns out to be \\(12^3 \\mod 19\\).\n",
      "Step 3: Use properties of modular multiplication to express \\((x + 1)^2 \\cdot (y + 5)^3 \\mod 19\\) in terms of \\(c0\\) and \\(c1\\).\n",
      "Step 4: Substitute \\(c0\\) and \\(c1\\) to find \\((x+1)^2 \\cdot (y+5)^3 \\mod 19\\) is \\(13\\).\n",
      "Step 5: Conclude \\((x + 1)^2 \\cdot (y + 5)^3 \\mod 19 = 13\\).\n",
      "\n",
      "## Formal statement\n",
      "```isabelle\n",
      "theorem mathd_numbertheory_412:\n",
      "  fixes x y :: nat\n",
      "  assumes h0 : \"x mod 19 = (4:: nat)\"\n",
      "    and h1 : \"y mod 19 = (7:: nat)\"\n",
      "  shows \"(x+1)^2 * (y+5)^3 mod 19 = (13:: nat)\"\n",
      "```\n",
      "\n",
      "## Proof\n",
      "```isabelle\n",
      "theory mathd_numbertheory_412\n",
      "imports Complex_Main \n",
      "begin\n",
      "\n",
      "(* Lemma 1: Prove properties of modular arithmetic involving addition and exponentiation, this lemma will be useful for Step 2 in the main theorem, which involves computations in modulo 19 *)\n",
      "lemma mod_add_power:\n",
      "  fixes x n a b c :: nat\n",
      "  assumes \"n > 0\" \"b > 0\" \"c > 0\" \"x mod n = a\"\n",
      "  shows \"((x + b)^c) mod n = ((a + b)^c) mod n\"\n",
      "proof -\n",
      "  have \"(x + b)^c mod n = ((x mod n) + b)^c mod n\"\n",
      "    by (smt (verit) mod_add_left_eq power_mod)\n",
      "  also have \"... = (a + b)^c mod n\"\n",
      "    using assms(4) by auto\n",
      "  finally show ?thesis by auto\n",
      "qed\n",
      "\n",
      "(* formal statement copy from the input *)\n",
      "theorem mathd_numbertheory_412:\n",
      "  fixes x y :: nat\n",
      "  assumes h0 : \"x mod 19 = (4:: nat)\"\n",
      "    and h1 : \"y mod 19 = (7:: nat)\"\n",
      "  shows \"(x+1)^2 * (y+5)^3 mod 19 = (13:: nat)\"\n",
      "proof -\n",
      "  (* Step 1: Compute \\((x + 1)^2 \\mod 19\\) using the lemma 'mod_add_power'. It turns out to be \\(5^2 \\mod 19\\). *)\n",
      "  have c0: \"(x+1)^2 mod 19 = 5^2 mod 19\"\n",
      "    using mod_add_power[where x=\"x\" and n=19 and b=1 and a=4 and c=2] h0 by simp\n",
      "\n",
      "  (* Step 2: Compute \\((y + 5)^3 \\mod 19\\) using the lemma 'mod_add_power'. It turns out to be \\(12^3 \\mod 19\\). *)\n",
      "  have c1: \"(y+5)^3 mod 19 = 12^3 mod 19\"\n",
      "    using mod_add_power[where x=\"y\" and n=19 and b=5 and a=7 and c=3] h1 by simp\n",
      "\n",
      "  (* Step 3: Use properties of modular multiplication to express \\((x + 1)^2 \\cdot (y + 5)^3 \\mod 19\\) in terms of \\(c0\\) and \\(c1\\). *)\n",
      "  have \"(x+1)^2 * (y+5)^3 mod 19 = ((x+1)^2 mod 19) * ((y+5)^3 mod 19) mod 19\"\n",
      "    by (metis mod_mult_eq)\n",
      "  \n",
      "  (* Step 4: Substitute \\(c0\\) and \\(c1\\) to find \\((x+1)^2 \\cdot (y+5)^3 \\mod 19\\) is \\(13\\). *)\n",
      "  also have \"... = 6 * 18 mod 19\" unfolding c0 c1 by auto\n",
      "  (* &\\equiv 13 *)\n",
      "  also have \"... = 13\" by auto\n",
      "\n",
      "  (* Step 5: Conclude \\((x + 1)^2 \\cdot (y + 5)^3 \\mod 19 = 13\\). *)\n",
      "  finally show ?thesis by auto\n",
      "qed\n",
      "\n",
      "end\n",
      "```\n",
      "\n",
      "\n",
      "\n",
      "####################\n",
      "\n",
      "## Problems\n",
      "Show that for any positive integer $n$, we have $3^{2^n} - 1 \\equiv 2^{n+2} \\pmod{2^{n+3}}$.\n",
      "\n",
      "## Informal proof\n",
      "We prove by induction on n. The base case is trivial. Inductive case: when n is 0 it is also trivial. When $n>0$, let $m=2^n$, and we have $3^m - 1 \\equiv 4*m \\pmod{8*m}$. Then there is $k$ where $3^m - 1 = (8*m)*k + 4*m$. Let $M = 4*m*k^2+m+4*m*k+k$, and we have $3^{2^{m+1}}-1 = 3^{m*2} - 1 = (3^m)^2-1 = ((8*m)*k + 4*m+1)^2 - 1 = (16*m)*M + 8*m$ Hence $3^{2^{m+1}}-1 \\equiv 8*m \\pmod{16*m}$, which unfolds to $(16*m)*M + 8*m \\equiv 8*m \\pmod{16*m}$. Therefore the inductive case holds. Q.E.D.\n",
      "\n",
      "## Formal statement\n",
      "```isabelle\n",
      "theorem numbertheory_3pow2pownm1mod2pownp3eq2pownp2:\n",
      "  fixes n :: nat\n",
      "  assumes \"0 < n\" \n",
      "  shows \"(3^(2^n) - 1) mod (2^(n + 3)) = (2::nat)^(n + 2)\"\n",
      "```\n",
      "\n",
      "## Proof\n",
      "theory numbertheory_3pow2pownm1mod2pownp3eq2pownp2\n",
      "import Complex_Main\n",
      "begin\n",
      "\n",
      "(* no helper function required in this theorem *)\n",
      "\n",
      "(* formal statement copy from the input *)\n",
      "theorem numbertheory_3pow2pownm1mod2pownp3eq2pownp2:\n",
      "  fixes n :: nat\n",
      "  assumes \"0 < n\" \n",
      "  shows \"(3^(2^n) - 1) mod (2^(n + 3)) = (2::nat)^(n + 2)\"\n",
      "  using assms\n",
      "proof (induct n)\n",
      "  case (Suc n)\n",
      "  have ?case when \"n=0\" \n",
      "    using that sledgehammer\n",
      "  moreover have ?case when \"n>0\"\n",
      "  proof -\n",
      "    define m::nat where \"m = 2^n\"\n",
      "    have \"(3 ^ 2 ^ n - 1) mod 2 ^ (n + 3) = (2::nat)^ (n + 2)\"\n",
      "      using Suc(1) that sledgehammer\n",
      "    then have \"(3^m - 1) mod (8*m) = 4*m\"\n",
      "      unfolding m_def\n",
      "      sledgehammer\n",
      "    then obtain k where k0:\"3^m - 1 = (8*m)*k + 4*m\" \n",
      "      sledgehammer\n",
      "    define M::nat where \"M = 4*m*k^2+m+4*m*k+k\"\n",
      "    have k: \"3^m = (8*m)*k + 4*m +1\" \n",
      "    proof -\n",
      "      have \"3^m\\<ge>(1::nat)\" sledgehammer\n",
      "      then show ?thesis\n",
      "        using k0 sledgehammer\n",
      "    qed\n",
      "    have \"3 ^ 2 ^ Suc n - 1 = ((3::nat) ^ (m*2)) - 1\"\n",
      "      unfolding m_def sledgehammer\n",
      "    also have \"... = (3 ^ m)\\<^sup>2 - 1\"\n",
      "      unfolding power_mult sledgehammer\n",
      "    also have \"... = ((8*m)*k + 4*m +1)^2 -1 \"\n",
      "      unfolding k sledgehammer\n",
      "    also have \"... = (16*m)*M + 8*m\"\n",
      "      unfolding M_def sledgehammer\n",
      "    finally have \"3 ^ 2 ^ Suc n - 1 = (16*m)*M + 8*m\" .\n",
      "    moreover have \"((16*m)*M + 8*m) mod (16*m) = 8*m\"\n",
      "      sledgehammer\n",
      "    then have \"((16*m)*M + 8*m) mod 2 ^ (Suc n + 3) = 2 ^ (Suc n + 2)\"\n",
      "      unfolding m_def sledgehammer\n",
      "    ultimately show ?thesis sledgehammer\n",
      "  qed\n",
      "  ultimately show ?case sledgehammer\n",
      "qed\n",
      "\n",
      "end\n",
      "```\n",
      "\n",
      "\n",
      "\n",
      "####################\n",
      "\n",
      "## Problems\n",
      "For how many positive integers $m$ does there exist at least one positive integer n such that $m \\cdot n \\le m + n$?  $ \\textbf{(A) } 4\\qquad \\textbf{(B) } 6\\qquad \\textbf{(C) } 9\\qquad \\textbf{(D) } 12\\qquad \\textbf{(E) } \\text{infinitely many} $ Show that it is \\textbf{(E) } \\text{infinitely many}.\n",
      "\n",
      "## Informal proof\n",
      "For any $m$ we can pick $n=1$, we get $m \\cdot 1 \\le m + 1$, therefore the answer is $\\textbf{(E) } \\text{infinitely many}$.\n",
      "\n",
      "## Formal statement\n",
      "```isabelle\n",
      "theorem amc12a_2002_p6:\n",
      "  fixes n ::nat \n",
      "  assumes \"n>0\"\n",
      "  shows \"\\<exists> m > n. \\<exists> p. m * p \\<le> m + p\"\n",
      "```\n",
      "\n",
      "## Proof\n"
     ]
    }
   ],
   "source": [
    "print(json_data['action_agent_conversation']['action_agent_human0'])"
   ]
  },
  {
   "cell_type": "code",
   "execution_count": 23,
   "metadata": {},
   "outputs": [
    {
     "name": "stdout",
     "output_type": "stream",
     "text": [
      "```isabelle\n",
      "theory amc12a_2002_p6\n",
      "imports Complex_Main \n",
      "begin\n",
      "\n",
      "(* formal statement copy from the input *)\n",
      "theorem amc12a_2002_p6:\n",
      "  fixes n ::nat \n",
      "  assumes \"n>0\"\n",
      "  shows \"\\<exists> m > n. \\<exists> p. m * p \\<le> m + p\"\n",
      "proof\n",
      "  (* Pick n+1 as m and 1 as p, then m*p = (n+1)*1 = n+1 and m+p = n+1+1 = n+2 *)\n",
      "  show \"n + 1 > n\" by simp\n",
      "  show \"\\<exists> p. (n + 1) * p \\<le> n + 1 + p\"\n",
      "  proof\n",
      "    show \"\\<exists>p. (n + 1) * p = n + 1\"\n",
      "      by (rule exI[where x=1], simp)\n",
      "  qed\n",
      "qed\n",
      "\n",
      "end\n",
      "```\n"
     ]
    }
   ],
   "source": [
    "print(json_data['action_agent_conversation']['action_agent_ai0'])"
   ]
  },
  {
   "cell_type": "markdown",
   "metadata": {},
   "source": [
    "The following function finds the json filenames whose success is True"
   ]
  },
  {
   "cell_type": "code",
   "execution_count": 26,
   "metadata": {},
   "outputs": [],
   "source": [
    "# The following function finds the json filenames whose success is True\n",
    "def find_successful_jsons(json_folder) -> List[str]:\n",
    "    successful_jsons = []\n",
    "    for filename in os.listdir(json_folder):\n",
    "        if filename.endswith(\".json\"):\n",
    "            with open(os.path.join(json_folder, filename), \"r\") as f:\n",
    "                json_data = json.load(f)\n",
    "            if json_data['success']:\n",
    "                successful_jsons.append(filename)\n",
    "    return successful_jsons"
   ]
  },
  {
   "cell_type": "code",
   "execution_count": 27,
   "metadata": {},
   "outputs": [
    {
     "data": {
      "text/plain": [
       "['task_amc12b_2002_p2_try1.json',\n",
       " 'task_mathd_numbertheory_517_try1.json',\n",
       " 'task_mathd_algebra_171_try1.json',\n",
       " 'task_mathd_algebra_419_try1.json',\n",
       " 'task_mathd_numbertheory_551_try1.json',\n",
       " 'task_mathd_numbertheory_207_try1.json',\n",
       " 'task_mathd_numbertheory_85_try1.json',\n",
       " 'task_mathd_algebra_176_try1.json',\n",
       " 'task_mathd_algebra_302_try1.json',\n",
       " 'task_mathd_algebra_432_try1.json',\n",
       " 'task_algebra_sqineq_at2malt1_try1.json']"
      ]
     },
     "execution_count": 27,
     "metadata": {},
     "output_type": "execute_result"
    }
   ],
   "source": [
    "json_dir = \"/home/hanyuan/Desktop/reason/LEGO-Prover/checkpoints/lego_prover_test/20250327_debug/json_logs\"\n",
    "find_successful_jsons(json_dir)"
   ]
  },
  {
   "cell_type": "markdown",
   "metadata": {},
   "source": [
    "### Try mathd_algebra_176\n",
    "This question is tried in the later part of the first 20-ish problems."
   ]
  },
  {
   "cell_type": "code",
   "execution_count": 32,
   "metadata": {},
   "outputs": [],
   "source": [
    "json_path = os.path.join(json_dir, \"task_mathd_algebra_176_try1.json\")\n",
    "with open(json_path, \"r\") as f:\n",
    "    json_data = json.load(f)"
   ]
  },
  {
   "cell_type": "code",
   "execution_count": 33,
   "metadata": {},
   "outputs": [
    {
     "name": "stdout",
     "output_type": "stream",
     "text": [
      "dict_keys(['action_agent_sys0', 'action_agent_human0', 'action_agent_ai0', 'formalizer1', 'action_agent_ai1'])\n"
     ]
    }
   ],
   "source": [
    "print(json_data['action_agent_conversation'].keys())"
   ]
  },
  {
   "cell_type": "code",
   "execution_count": 35,
   "metadata": {},
   "outputs": [
    {
     "name": "stdout",
     "output_type": "stream",
     "text": [
      "Here some useful skill for reference:\n",
      "###### useful skill 1: ######\n",
      "```isabelle\n",
      "theorem mathd_algebra_171:\n",
      "  fixes f :: \"real \\<Rightarrow> real\"\n",
      "  assumes \"\\<forall>x. f x = 5 * x + 4\" \n",
      "  shows \"f 1 = 9\"\n",
      "proof -\n",
      "  have \"f 1 = 5 * 1 + 4\" using assms by auto\n",
      "  then show ?thesis by simp\n",
      "qed\n",
      "```\n",
      "\n",
      "\n",
      "###### useful skill 2: ######\n",
      "```isabelle\n",
      "theorem mathd_algebra_432:\n",
      "  fixes x ::real \n",
      "  shows \"(x + 3) * (2 * x - 6) = 2 * x^2 - 18\"\n",
      "proof -\n",
      "  have \"(x + 3) * (2 * x - 6) = 2 * (x + 3) * (x - 3)\" by sos\n",
      "  also have \"... = 2 * (x^2 - 3^2)\" by sos\n",
      "  also have \"... = 2 * x^2 - 18\" by simp\n",
      "  finally show ?thesis by simp\n",
      "qed\n",
      "```\n",
      "\n",
      "\n",
      "###### useful skill 3: ######\n",
      "```isabelle\n",
      "theorem mathd_algebra_302:\n",
      "  \"(\\<i> / 2)^2 = -(1 / 4)\"\n",
      "proof -\n",
      "  have \"(\\<i> / 2)^2 = (\\<i>^2) / 2^2\" by eval\n",
      "  also have \"... = -1 / 4\" by simp\n",
      "  then show ?thesis by eval\n",
      "qed\n",
      "```\n",
      "\n",
      "\n",
      "###### useful skill 4: ######\n",
      "```isabelle\n",
      "theorem mathd_algebra_419:\n",
      "  fixes a b :: real\n",
      "  assumes \"a = -1\"\n",
      "    and \"b = 5\"\n",
      "  shows \"-a - b^2 + 3 * (a * b) = -39\"\n",
      "proof -\n",
      "  have \"-a - b^2 + 3 * (a * b) = -(-1) - 5^2 + 3 * (-1) * 5\" using assms by simp\n",
      "  also have \"... = 1 - 25 - 15\" by simp\n",
      "  also have \"... = -39\" by simp\n",
      "  finally show ?thesis .\n",
      "qed\n",
      "```\n",
      "\n",
      "\n",
      "## Problems\n",
      "Suppose that $x,$ $y,$ and $z$ are three positive numbers that satisfy the equations $xyz = 1,$ $x + \\frac {1}{z} = 5,$ and $y + \\frac {1}{x} = 29.$ Then $z + \\frac {1}{y} = \\frac {m}{n},$ where $m$ and $n$ are [[relatively prime]] positive integers. Find $m + n$. Show that it is 5. note: this is the type of problem that makes you think symmetry, but actually can be solved easily with substitution, and other normal technniques\n",
      "\n",
      "## Informal proof\n",
      "Step 1: Rewrite the equation $xyz = 1$ as $\\frac{1}{z} = xy$.\n",
      "Step 2: Substitute the value of $\\frac{1}{z}$ into the equation $x + \\frac{1}{z} = 5$, resulting in $x + xy = 5$, then $x(1 + y) = 5$, then $\\frac{1}{x} = \\frac{1 + y}{5}$.\n",
      "Step 3: Substitute the value of $\\frac{1}{x}$ into the equation $y + \\frac{1}{x} = 29$, leading to $y + \\frac{1+y}{5} = 29$. Solve for $y$, getting $y = 24$.\n",
      "Step 6: Substitute the value of $y$ back into the equations to find $x = \\frac{1}{5}$ and $z = \\frac{5}{24}$.\n",
      "Step 7: Find $z + \\frac{1}{y} = \\frac{5}{24} + \\frac{1}{24} = \\frac{1}{4}$.\n",
      "Step 8: The rational $p = \\frac{1}{4}$ can be expressed as $p = \\frac{m}{n}$ where $m = 1$ and $n = 4$. Hence $m + n = 5$.\n",
      "\n",
      "## Formal statement\n",
      "theorem aimeI_2000_p7:\n",
      "  fixes x y z :: real\n",
      "    and p :: rat\n",
      "  assumes \"0 < x \\<and> 0 < y \\<and> 0 < z\"\n",
      "    and \"x * y * z = 1\"\n",
      "    and \"x + 1 / z = 5\"\n",
      "    and \"y + 1 / x = 29\"\n",
      "    and \"z + 1 / y = p\"\n",
      "    and \"0 < p\" \n",
      "  shows \"let (m,n) = quotient_of p in m + n = 5\"\n",
      "\n",
      "## Proof\n",
      "```isabelle\n",
      "theory aimeI_2000_p7\n",
      "  imports Complex_Main\n",
      "begin\n",
      "\n",
      "(* lemma 1. A lemma can be useful for step 3 which remove any denominator that not equal to zero by multiply the denominator in both size of the equation *)\n",
      "lemma cancel_div:\n",
      "  fixes x a b c:: real\n",
      "  assumes \"x > 0\" \"a + b / x = c\"\n",
      "  shows \"a * x + b = c * x\"\n",
      "proof -\n",
      "  have \"x * (a + b / x) = c * x\"\n",
      "    using assms(2) by auto\n",
      "  then have \"x * a + x * (b / x) = c * x\"\n",
      "    by (simp add: distrib_left)\n",
      "  then show ?thesis\n",
      "    using assms(1) by (simp add: mult.commute)\n",
      "qed\n",
      "\n",
      "(* formal statement copy from the input*)\n",
      "theorem aimeI_2000_p7:\n",
      "  fixes x y z :: real\n",
      "    and p :: rat\n",
      "  assumes \"0 < x \\<and> 0 < y \\<and> 0 < z\"\n",
      "    and \"x * y * z = 1\"\n",
      "    and \"x + 1 / z = 5\"\n",
      "    and \"y + 1 / x = 29\"\n",
      "    and \"z + 1 / y = p\"\n",
      "    and \"0 < p\" \n",
      "  shows \"let (m,n) = quotient_of p in m + n = 5\"\n",
      "proof -\n",
      "  (* Step 1: Rewrite the equation $xyz = 1$ as $\\frac{1}{z} = xy$. *)\n",
      "  have c0: \"z = 1 / (x*y)\"\n",
      "    using assms(1) assms(2) sledgehammer\n",
      "  \n",
      "  (* Step 2: Substitute the value of $\\frac{1}{z}$ into the equation $x + \\frac{1}{z} = 5$, resulting in $x + xy = 5$, then $x(1 + y) = 5$, then $\\frac{1}{x} = \\frac{1 + y}{5}$. *)\n",
      "  have \"x + x * y = 5\" \n",
      "    using c0 assms(3) sledgehammer\n",
      "  then have \"x * (1 + y) = 5\"\n",
      "    sledgehammer\n",
      "  (*add*) then have \"x = 5 / (1 + y)\" using assms(1) \n",
      "    sledgehammer\n",
      "  then have c1:\"1 / x = (1 + y) / 5\"\n",
      "    sledgehammer\n",
      "\n",
      "  (* Step 3: Substitute the value of $\\frac{1}{x}$ into the equation $y + \\frac{1}{x} = 29$, leading to $y + \\frac{1+y}{5} = 29$. Solve for $y$, getting $y = 24$. *)\n",
      "  have \"y + (1+y)/5 = 29\" \n",
      "    using assms(4) c1 sledgehammer\n",
      "  then have \"5*y + (1 + y) = 145\" \n",
      "    using cancel_div[of 5 \"y\" \"1+y\" 29] sledgehammer\n",
      "  then have c2:\"y = 24\" sledgehammer\n",
      "\n",
      "  (* Step 4: Substitute the value of $y$ back into the equations to find $x = \\frac{1}{5}$ and $z = \\frac{5}{24}$. *)\n",
      "  have c3:\"x = 1 / 5\" \n",
      "    sledgehammer\n",
      "  have c4: \"z = 5 / 24\"\n",
      "    sledgehammer\n",
      "  \n",
      "  (* Step 5: Find $z + \\frac{1}{y} = \\frac{5}{24} + \\frac{1}{24} = \\frac{1}{4}$. *)\n",
      "  have \"p = z + 1/y\" \n",
      "    using assms(5) sledgehammer\n",
      "  also have \"... = 5/24 + 1/24\" \n",
      "    unfolding c2 c4 sledgehammer\n",
      "  also have \"... = 1/4\" \n",
      "    sledgehammer\n",
      "\n",
      "  (* Step 6: The rational $p = \\frac{1}{4}$ can be expressed as $p = \\frac{m}{n}$ where $m = 1$ and $n = 4$. Hence $m + n = 5$. *)\n",
      "  finally have c5: \"p = 1/4\"\n",
      "    sledgehammer\n",
      "  have \"quotient_of p = (1, 4)\" \n",
      "    unfolding c5 sledgehammer\n",
      "  then show ?thesis \n",
      "    sledgehammer\n",
      "qed\n",
      "\n",
      "end\n",
      "```\n",
      "\n",
      "####################\n",
      "\n",
      "## Problems\n",
      "When Rachel divides her favorite number by 7, she gets a remainder of 5. What will the remainder be if she multiplies her favorite number by 5 and then divides by 7? Show that it is 4.\n",
      "\n",
      "## Informal proof\n",
      "Step 1: Define Rachel's favorite number as $ n $.\n",
      "Step 2. since $n \\equiv 5 \\pmod{7}$, so $5n \\equiv 5 \\cdot 5 \\equiv 25 \\pmod{7}$\n",
      "Step 3: Use modular arithmetic to simplify $ 5n (\\text{mod} 7) $ into 4.\n",
      "Step 4: Conclude that the remainder will be 4.\n",
      "\n",
      "## Formal statement\n",
      "```isabelle\n",
      "theorem mathd_numbertheory_335:\n",
      "  fixes n :: nat\n",
      "  assumes h0 : \"n mod 7 = 5\"\n",
      "  shows \"(5 * n) mod 7 = 4\"\n",
      "```\n",
      "\n",
      "## Proof\n",
      "```isabelle\n",
      "theory mathd_numbertheory_335\n",
      "  imports Complex_Main\n",
      "begin\n",
      "\n",
      "(* no helper function required in this theorem *)\n",
      "\n",
      "(* formal statement copy from the input *)\n",
      "theorem mathd_numbertheory_335:\n",
      "  fixes n :: nat\n",
      "  assumes h0 : \"n mod 7 = 5\"\n",
      "  shows \"(5 * n) mod 7 = 4\"\n",
      "proof -\n",
      "  (* Step 1. since $n \\equiv 5 \\pmod{7}$, so $5n \\equiv 5 \\cdot 5 \\equiv 25 \\equiv 4 \\pmod{7}$. *)\n",
      "  have c0:\"(5 * n) mod 7 = (5 * 5) mod 7\" using h0\n",
      "    sledgehammer\n",
      "  (* Step 3: Use modular arithmetic to simplify $ 5n (\\text{mod} 7) $ into 4. *)\n",
      "  then have \"\\<dots> = 4\" sledgehammer\n",
      "  then have \"(5 * n) mod 7 = 4\" using c0 \n",
      "\n",
      "  (* Step 4: Conclude that the remainder will be 4. *)\n",
      "  then show ?thesis sledgehammer\n",
      "qed\n",
      "\n",
      "end\n",
      "```\n",
      "\n",
      "####################\n",
      "\n",
      "## Problems\n",
      "Expand the product $(x+1)^2 \\cdot x$. Show that it is x^3 + 2x^2 + x.\n",
      "\n",
      "## Informal proof\n",
      "We have $(x+1)^2 = (x+1)(x+1) = x(x) + 1(x) + 1(x) + 1 = x^2 + 2x + 1$. Multiplying this by $x$ gives $x^3 + 2x^2 + x$.\n",
      "\n",
      "## Formal statement\n",
      "```isabelle\n",
      "theorem mathd_algebra_176:\n",
      "  fixes x ::real\n",
      "  shows \"(x + 1)^2 * x = x^3 + 2 * x^2 + x\"\n",
      "```\n",
      "\n",
      "## Proof\n"
     ]
    }
   ],
   "source": [
    "# print(json_data['action_agent_conversation']['action_agent_sys0']) # same\n",
    "print(json_data['action_agent_conversation']['action_agent_human0'])"
   ]
  },
  {
   "cell_type": "code",
   "execution_count": 37,
   "metadata": {},
   "outputs": [
    {
     "name": "stdout",
     "output_type": "stream",
     "text": [
      "```isabelle\n",
      "theory mathd_algebra_176\n",
      "  imports Complex_Main\n",
      "begin\n",
      "\n",
      "(* no helper function required in this theorem *)\n",
      "\n",
      "(* formal statement copy from the input *)\n",
      "theorem mathd_algebra_176:\n",
      "  fixes x ::real\n",
      "  shows \"(x + 1)^2 * x = x^3 + 2*x^2 + x\"\n",
      "proof -\n",
      "  (* Step 1: Expand the product $(x+1)^2 = (x+1)(x+1) = x(x) + 1(x) + 1(x) + 1 = x^2 + 2x + 1$. *)\n",
      "  have \"(x + 1)^2 = (x + 1)*(x + 1)\" by simp\n",
      "  also have \"... = x*x + 1*x + 1*x + 1\" by (simp add: power2_eq_square)\n",
      "  also have \"... = x^2 + 2*x + 1\" by simp\n",
      "  finally have \"(x + 1)^2 = x^2 + 2*x + 1\" .\n",
      "\n",
      "  (* Step 2: Multiply the expanded result by x to get $x^3 + 2x^2 + x$. *)\n",
      "  then have \"(x + 1)^2 * x = (x^2 + 2*x + 1) * x\" by simp\n",
      "  also have \"... = x^3 + 2*x^2 + x\" by (simp add: algebra_simps)\n",
      "  finally show ?thesis .\n",
      "qed\n",
      "\n",
      "end\n",
      "```\n"
     ]
    }
   ],
   "source": [
    "print(json_data['action_agent_conversation']['action_agent_ai0'])"
   ]
  },
  {
   "cell_type": "markdown",
   "metadata": {},
   "source": [
    "`have \"(x + 1)^2 = (x + 1)*(x + 1)\" by simp` <br>\n",
    "Isabelle: Failed to apply initial proof method⌂:\n",
    "goal (1 subgoal):\n",
    " 1. (x + 1)⇧2 = (x + 1) * (x + 1)"
   ]
  },
  {
   "cell_type": "code",
   "execution_count": 40,
   "metadata": {},
   "outputs": [
    {
     "name": "stdout",
     "output_type": "stream",
     "text": [
      "Here some useful skill for reference:\n",
      "###### useful skill 1: ######\n",
      "```isabelle\n",
      "theorem mathd_algebra_171:\n",
      "  fixes f :: \"real \\<Rightarrow> real\"\n",
      "  assumes \"\\<forall>x. f x = 5 * x + 4\" \n",
      "  shows \"f 1 = 9\"\n",
      "proof -\n",
      "  have \"f 1 = 5 * 1 + 4\" using assms by auto\n",
      "  then show ?thesis by simp\n",
      "qed\n",
      "```\n",
      "\n",
      "\n",
      "###### useful skill 2: ######\n",
      "```isabelle\n",
      "theorem mathd_algebra_432:\n",
      "  fixes x ::real \n",
      "  shows \"(x + 3) * (2 * x - 6) = 2 * x^2 - 18\"\n",
      "proof -\n",
      "  have \"(x + 3) * (2 * x - 6) = 2 * (x + 3) * (x - 3)\" by sos\n",
      "  also have \"... = 2 * (x^2 - 3^2)\" by sos\n",
      "  also have \"... = 2 * x^2 - 18\" by simp\n",
      "  finally show ?thesis by simp\n",
      "qed\n",
      "```\n",
      "\n",
      "\n",
      "###### useful skill 3: ######\n",
      "```isabelle\n",
      "theorem mathd_algebra_302:\n",
      "  \"(\\<i> / 2)^2 = -(1 / 4)\"\n",
      "proof -\n",
      "  have \"(\\<i> / 2)^2 = (\\<i>^2) / 2^2\" by eval\n",
      "  also have \"... = -1 / 4\" by simp\n",
      "  then show ?thesis by eval\n",
      "qed\n",
      "```\n",
      "\n",
      "\n",
      "###### useful skill 4: ######\n",
      "```isabelle\n",
      "theorem mathd_algebra_419:\n",
      "  fixes a b :: real\n",
      "  assumes \"a = -1\"\n",
      "    and \"b = 5\"\n",
      "  shows \"-a - b^2 + 3 * (a * b) = -39\"\n",
      "proof -\n",
      "  have \"-a - b^2 + 3 * (a * b) = -(-1) - 5^2 + 3 * (-1) * 5\" using assms by simp\n",
      "  also have \"... = 1 - 25 - 15\" by simp\n",
      "  also have \"... = -39\" by simp\n",
      "  finally show ?thesis .\n",
      "qed\n",
      "```\n",
      "\n",
      "\n",
      "## Problems\n",
      "Suppose that $x,$ $y,$ and $z$ are three positive numbers that satisfy the equations $xyz = 1,$ $x + \\frac {1}{z} = 5,$ and $y + \\frac {1}{x} = 29.$ Then $z + \\frac {1}{y} = \\frac {m}{n},$ where $m$ and $n$ are [[relatively prime]] positive integers. Find $m + n$. Show that it is 5. note: this is the type of problem that makes you think symmetry, but actually can be solved easily with substitution, and other normal technniques\n",
      "\n",
      "## Informal proof\n",
      "Step 1: Rewrite the equation $xyz = 1$ as $\\frac{1}{z} = xy$.\n",
      "Step 2: Substitute the value of $\\frac{1}{z}$ into the equation $x + \\frac{1}{z} = 5$, resulting in $x + xy = 5$, then $x(1 + y) = 5$, then $\\frac{1}{x} = \\frac{1 + y}{5}$.\n",
      "Step 3: Substitute the value of $\\frac{1}{x}$ into the equation $y + \\frac{1}{x} = 29$, leading to $y + \\frac{1+y}{5} = 29$. Solve for $y$, getting $y = 24$.\n",
      "Step 6: Substitute the value of $y$ back into the equations to find $x = \\frac{1}{5}$ and $z = \\frac{5}{24}$.\n",
      "Step 7: Find $z + \\frac{1}{y} = \\frac{5}{24} + \\frac{1}{24} = \\frac{1}{4}$.\n",
      "Step 8: The rational $p = \\frac{1}{4}$ can be expressed as $p = \\frac{m}{n}$ where $m = 1$ and $n = 4$. Hence $m + n = 5$.\n",
      "\n",
      "## Formal statement\n",
      "theorem aimeI_2000_p7:\n",
      "  fixes x y z :: real\n",
      "    and p :: rat\n",
      "  assumes \"0 < x \\<and> 0 < y \\<and> 0 < z\"\n",
      "    and \"x * y * z = 1\"\n",
      "    and \"x + 1 / z = 5\"\n",
      "    and \"y + 1 / x = 29\"\n",
      "    and \"z + 1 / y = p\"\n",
      "    and \"0 < p\" \n",
      "  shows \"let (m,n) = quotient_of p in m + n = 5\"\n",
      "\n",
      "## Proof\n",
      "```isabelle\n",
      "theory aimeI_2000_p7\n",
      "  imports Complex_Main\n",
      "begin\n",
      "\n",
      "(* lemma 1. A lemma can be useful for step 3 which remove any denominator that not equal to zero by multiply the denominator in both size of the equation *)\n",
      "lemma cancel_div:\n",
      "  fixes x a b c:: real\n",
      "  assumes \"x > 0\" \"a + b / x = c\"\n",
      "  shows \"a * x + b = c * x\"\n",
      "proof -\n",
      "  have \"x * (a + b / x) = c * x\"\n",
      "    using assms(2) by auto\n",
      "  then have \"x * a + x * (b / x) = c * x\"\n",
      "    by (simp add: distrib_left)\n",
      "  then show ?thesis\n",
      "    using assms(1) by (simp add: mult.commute)\n",
      "qed\n",
      "\n",
      "(* formal statement copy from the input*)\n",
      "theorem aimeI_2000_p7:\n",
      "  fixes x y z :: real\n",
      "    and p :: rat\n",
      "  assumes \"0 < x \\<and> 0 < y \\<and> 0 < z\"\n",
      "    and \"x * y * z = 1\"\n",
      "    and \"x + 1 / z = 5\"\n",
      "    and \"y + 1 / x = 29\"\n",
      "    and \"z + 1 / y = p\"\n",
      "    and \"0 < p\" \n",
      "  shows \"let (m,n) = quotient_of p in m + n = 5\"\n",
      "proof -\n",
      "  (* Step 1: Rewrite the equation $xyz = 1$ as $\\frac{1}{z} = xy$. *)\n",
      "  have c0: \"z = 1 / (x*y)\"\n",
      "    using assms(1) assms(2) sledgehammer\n",
      "  \n",
      "  (* Step 2: Substitute the value of $\\frac{1}{z}$ into the equation $x + \\frac{1}{z} = 5$, resulting in $x + xy = 5$, then $x(1 + y) = 5$, then $\\frac{1}{x} = \\frac{1 + y}{5}$. *)\n",
      "  have \"x + x * y = 5\" \n",
      "    using c0 assms(3) sledgehammer\n",
      "  then have \"x * (1 + y) = 5\"\n",
      "    sledgehammer\n",
      "  (*add*) then have \"x = 5 / (1 + y)\" using assms(1) \n",
      "    sledgehammer\n",
      "  then have c1:\"1 / x = (1 + y) / 5\"\n",
      "    sledgehammer\n",
      "\n",
      "  (* Step 3: Substitute the value of $\\frac{1}{x}$ into the equation $y + \\frac{1}{x} = 29$, leading to $y + \\frac{1+y}{5} = 29$. Solve for $y$, getting $y = 24$. *)\n",
      "  have \"y + (1+y)/5 = 29\" \n",
      "    using assms(4) c1 sledgehammer\n",
      "  then have \"5*y + (1 + y) = 145\" \n",
      "    using cancel_div[of 5 \"y\" \"1+y\" 29] sledgehammer\n",
      "  then have c2:\"y = 24\" sledgehammer\n",
      "\n",
      "  (* Step 4: Substitute the value of $y$ back into the equations to find $x = \\frac{1}{5}$ and $z = \\frac{5}{24}$. *)\n",
      "  have c3:\"x = 1 / 5\" \n",
      "    sledgehammer\n",
      "  have c4: \"z = 5 / 24\"\n",
      "    sledgehammer\n",
      "  \n",
      "  (* Step 5: Find $z + \\frac{1}{y} = \\frac{5}{24} + \\frac{1}{24} = \\frac{1}{4}$. *)\n",
      "  have \"p = z + 1/y\" \n",
      "    using assms(5) sledgehammer\n",
      "  also have \"... = 5/24 + 1/24\" \n",
      "    unfolding c2 c4 sledgehammer\n",
      "  also have \"... = 1/4\" \n",
      "    sledgehammer\n",
      "\n",
      "  (* Step 6: The rational $p = \\frac{1}{4}$ can be expressed as $p = \\frac{m}{n}$ where $m = 1$ and $n = 4$. Hence $m + n = 5$. *)\n",
      "  finally have c5: \"p = 1/4\"\n",
      "    sledgehammer\n",
      "  have \"quotient_of p = (1, 4)\" \n",
      "    unfolding c5 sledgehammer\n",
      "  then show ?thesis \n",
      "    sledgehammer\n",
      "qed\n",
      "\n",
      "end\n",
      "```\n",
      "\n",
      "####################\n",
      "\n",
      "## Problems\n",
      "When Rachel divides her favorite number by 7, she gets a remainder of 5. What will the remainder be if she multiplies her favorite number by 5 and then divides by 7? Show that it is 4.\n",
      "\n",
      "## Informal proof\n",
      "Step 1: Define Rachel's favorite number as $ n $.\n",
      "Step 2. since $n \\equiv 5 \\pmod{7}$, so $5n \\equiv 5 \\cdot 5 \\equiv 25 \\pmod{7}$\n",
      "Step 3: Use modular arithmetic to simplify $ 5n (\\text{mod} 7) $ into 4.\n",
      "Step 4: Conclude that the remainder will be 4.\n",
      "\n",
      "## Formal statement\n",
      "```isabelle\n",
      "theorem mathd_numbertheory_335:\n",
      "  fixes n :: nat\n",
      "  assumes h0 : \"n mod 7 = 5\"\n",
      "  shows \"(5 * n) mod 7 = 4\"\n",
      "```\n",
      "\n",
      "## Proof\n",
      "```isabelle\n",
      "theory mathd_numbertheory_335\n",
      "  imports Complex_Main\n",
      "begin\n",
      "\n",
      "(* no helper function required in this theorem *)\n",
      "\n",
      "(* formal statement copy from the input *)\n",
      "theorem mathd_numbertheory_335:\n",
      "  fixes n :: nat\n",
      "  assumes h0 : \"n mod 7 = 5\"\n",
      "  shows \"(5 * n) mod 7 = 4\"\n",
      "proof -\n",
      "  (* Step 1. since $n \\equiv 5 \\pmod{7}$, so $5n \\equiv 5 \\cdot 5 \\equiv 25 \\equiv 4 \\pmod{7}$. *)\n",
      "  have c0:\"(5 * n) mod 7 = (5 * 5) mod 7\" using h0\n",
      "    sledgehammer\n",
      "  (* Step 3: Use modular arithmetic to simplify $ 5n (\\text{mod} 7) $ into 4. *)\n",
      "  then have \"\\<dots> = 4\" sledgehammer\n",
      "  then have \"(5 * n) mod 7 = 4\" using c0 \n",
      "\n",
      "  (* Step 4: Conclude that the remainder will be 4. *)\n",
      "  then show ?thesis sledgehammer\n",
      "qed\n",
      "\n",
      "end\n",
      "```\n",
      "\n",
      "####################\n",
      "\n",
      "## Problems\n",
      "Expand the product $(x+1)^2 \\cdot x$. Show that it is x^3 + 2x^2 + x.\n",
      "\n",
      "## Informal proof\n",
      "We have $(x+1)^2 = (x+1)(x+1) = x(x) + 1(x) + 1(x) + 1 = x^2 + 2x + 1$. Multiplying this by $x$ gives $x^3 + 2x^2 + x$.\n",
      "\n",
      "## Formal statement\n",
      "```isabelle\n",
      "theorem mathd_algebra_176:\n",
      "  fixes x ::real\n",
      "  shows \"(x + 1)^2 * x = x^3 + 2 * x^2 + x\"\n",
      "```\n",
      "\n",
      "## Proof\n"
     ]
    }
   ],
   "source": [
    "print(json_data['action_agent_conversation']['formalizer1'])"
   ]
  },
  {
   "cell_type": "code",
   "execution_count": 38,
   "metadata": {},
   "outputs": [
    {
     "name": "stdout",
     "output_type": "stream",
     "text": [
      "```isabelle\n",
      "theory mathd_algebra_176\n",
      "  imports Complex_Main\n",
      "begin\n",
      "\n",
      "(* formal statement copy from the input *)\n",
      "theorem mathd_algebra_176:\n",
      "  fixes x ::real\n",
      "  shows \"(x + 1)^2 * x = x^3 + 2 * x^2 + x\"\n",
      "proof -\n",
      "  (* We expand the left-hand side of the equation *)\n",
      "  have \"(x + 1)^2 * x = ((x + 1)*(x + 1)) * x\" by simp\n",
      "  also have \"... = (x^2 + 2*x + 1) * x\" by (simp add: power2_eq_square)\n",
      "  also have \"... = x*(x^2 + 2*x + 1)\" by (simp add: mult.commute)\n",
      "  also have \"... = x^3 + 2*x^2 + x\" by (simp add: algebra_simps)\n",
      "  finally show ?thesis .\n",
      "qed\n",
      "\n",
      "end\n",
      "```\n"
     ]
    }
   ],
   "source": [
    "print(json_data['action_agent_conversation']['action_agent_ai1'])"
   ]
  },
  {
   "cell_type": "markdown",
   "metadata": {},
   "source": [
    "`have \"(x + 1)^2 * x = ((x + 1)*(x + 1)) * x\" by simp`<br>\n",
    "Isabelle: Failed to finish proof⌂:\n",
    "goal (1 subgoal):\n",
    " 1. x = 0 ∨\n",
    "    (x + 1)⇧2 = (x + 1) * (x + 1)\n",
    "<br><br>\n",
    "However, this question is success"
   ]
  },
  {
   "cell_type": "code",
   "execution_count": 41,
   "metadata": {},
   "outputs": [
    {
     "data": {
      "text/plain": [
       "True"
      ]
     },
     "execution_count": 41,
     "metadata": {},
     "output_type": "execute_result"
    }
   ],
   "source": [
    "json_data['success']"
   ]
  },
  {
   "cell_type": "markdown",
   "metadata": {},
   "source": [
    "## 20250401\n",
    "Understand how the informal proof of a test problem was made"
   ]
  },
  {
   "cell_type": "code",
   "execution_count": 42,
   "metadata": {},
   "outputs": [],
   "source": [
    "test_problem_path = \"/home/hanyuan/Desktop/reason/LEGO-Prover/data/full_data/test/aime_1984_p7.json\"\n",
    "with open(test_problem_path, \"r\") as f:\n",
    "    test_problem = json.load(f)"
   ]
  },
  {
   "cell_type": "code",
   "execution_count": 48,
   "metadata": {},
   "outputs": [
    {
     "name": "stdout",
     "output_type": "stream",
     "text": [
      "The [[function]] f is defined on the [[set]] of [[integer]]s and satisfies $f(n)=\\begin{cases}\n",
      "n-3&\\mbox{if}\\ n\\ge 1000\\\\\n",
      "f(f(n+5))&\\mbox{if}\\ n<1000\\end{cases}$\n",
      "\n",
      "Find $f(84)$. Show that it is 997.\n",
      "--------------------------------------------------\n",
      "Define $f^{h} = f(f(\\cdots f(f(x))\\cdots))$, where the function $f$ is performed $h$ times. We find that $ f(84) = f(f(89)) = f^2(89) = f^3(94) = \\ldots f^{y}(1004)$. $1004 = 84 + 5(y - 1) \\Longrightarrow y = 185$. So we now need to reduce $f^{185}(1004)$.\n",
      "\n",
      "Let’s write out a couple more iterations of this function:\n",
      "$\\begin{align*}f^{185}(1004)&=f^{184}(1001)=f^{183}(998)=f^{184}(1003)=f^{183}(1000)\\\\\n",
      "&=f^{182}(997)=f^{183}(1002)=f^{182}(999)=f^{183}(1004)\\end{align*}$\n",
      "So this function reiterates with a period of 2 for $x$. It might be tempting at first to assume that $f(1004) = 1001$ is the answer; however, that is not true since the solution occurs slightly before that. Start at $f^3(1004)$:\n",
      "$f^{3}(1004)=f^{2}(1001)=f(998)=f^{2}(1003)=f(1000)=997$\n",
      "\n",
      "Note that we should also be suspicious if our answer is $1001$- it is a $4$-digit number, and we were not asked to, say, divide our number by $13$.\n"
     ]
    }
   ],
   "source": [
    "print(test_problem['informal_statement'])\n",
    "print(\"-\"*50)\n",
    "print(test_problem['informal_proof'])"
   ]
  },
  {
   "cell_type": "code",
   "execution_count": null,
   "metadata": {},
   "outputs": [],
   "source": []
  }
 ],
 "metadata": {
  "kernelspec": {
   "display_name": "lego-prover",
   "language": "python",
   "name": "python3"
  },
  "language_info": {
   "codemirror_mode": {
    "name": "ipython",
    "version": 3
   },
   "file_extension": ".py",
   "mimetype": "text/x-python",
   "name": "python",
   "nbconvert_exporter": "python",
   "pygments_lexer": "ipython3",
   "version": "3.11.4"
  }
 },
 "nbformat": 4,
 "nbformat_minor": 2
}
